{
 "cells": [
  {
   "cell_type": "code",
   "execution_count": 1,
   "metadata": {},
   "outputs": [],
   "source": [
    "# Constants\n",
    "\n",
    "KEYWORD=\"data scientist\"\n",
    "COUNTRY = \"United States\"\n",
    "NUM_OF_JOBS= 1000\n",
    "\n",
    "DF_PATH_PKL = f\"../data/raw/0_{NUM_OF_JOBS}_jobs_{KEYWORD}_{COUNTRY}_collected_raw_data_df.pkl\"\n",
    "DF_PATH_CSV = f\"../data/raw/0_{NUM_OF_JOBS}_jobs_{KEYWORD}_{COUNTRY}_collected_raw_data_df.csv\"\n",
    "\n",
    "EXPORT_PATH_PKL = f\"../data/raw/1_{NUM_OF_JOBS}_jobs_{KEYWORD}_{COUNTRY}_cleaned_data_df.pkl\"\n",
    "EXPORT_PATH_CSV = f\"../data/raw/1_{NUM_OF_JOBS}_jobs_{KEYWORD}_{COUNTRY}_cleaned_data_df.csv\"\n",
    "\n",
    "FIG_DIR = \"../reports/figures\"\n",
    "\n",
    "REPLACED_DICT = {\n",
    "    'Founded' :             {'Nonprofit Organization' : -1, 'Company - Private' : -1,\n",
    "                                'Government' : -1, 'Company - Public': -1},\n",
    "    'Type of ownership' :   {'$1 to $5 billion (USD)': -1, 'Unknown / Non-Applicable': -1, '$5 to $25 million (USD)' : -1},\n",
    "    'Sector' :              {'Unknown / Non-Applicable' : -1},\n",
    "    'Revenue' :             {'Unknown / Non-Applicable' : -1},\n",
    "    'Headquarters':         {'' : -1},\n",
    "    'Size'  :               {'Unknown' : -1}   \n",
    "}\n",
    "\n",
    "# skills to investigate about\n",
    "DS_SKILLS_LIST =  [ 'python','javascript','r_studio','r studio','sas','sql','postgresql','mysql',\n",
    "                   'excel','tableau','power bi','power_bi','tensorflow','aws','azure',\n",
    "                   'git','keras','flask','spark',\n",
    "                   'docker','pytorch']"
   ]
  },
  {
   "cell_type": "code",
   "execution_count": 2,
   "metadata": {},
   "outputs": [],
   "source": [
    "# Load packages\n",
    "import pandas as pd\n",
    "import numpy as np\n",
    "from IPython.display import display"
   ]
  },
  {
   "cell_type": "code",
   "execution_count": 3,
   "metadata": {},
   "outputs": [
    {
     "data": {
      "text/plain": [
       "(1000, 14)"
      ]
     },
     "metadata": {},
     "output_type": "display_data"
    },
    {
     "data": {
      "text/plain": [
       "Index(['Job Title', 'Salary Estimate', 'Job Description', 'Rating',\n",
       "       'Company Name', 'Location', 'Headquarters', 'Size', 'Founded',\n",
       "       'Type of ownership', 'Industry', 'Sector', 'Revenue', 'Competitors'],\n",
       "      dtype='object')"
      ]
     },
     "metadata": {},
     "output_type": "display_data"
    },
    {
     "name": "stdout",
     "output_type": "stream",
     "text": [
      "<class 'pandas.core.frame.DataFrame'>\n",
      "RangeIndex: 1000 entries, 0 to 999\n",
      "Data columns (total 14 columns):\n",
      " #   Column             Non-Null Count  Dtype \n",
      "---  ------             --------------  ----- \n",
      " 0   Job Title          1000 non-null   object\n",
      " 1   Salary Estimate    1000 non-null   object\n",
      " 2   Job Description    1000 non-null   object\n",
      " 3   Rating             1000 non-null   object\n",
      " 4   Company Name       1000 non-null   object\n",
      " 5   Location           1000 non-null   object\n",
      " 6   Headquarters       1000 non-null   object\n",
      " 7   Size               1000 non-null   object\n",
      " 8   Founded            1000 non-null   object\n",
      " 9   Type of ownership  1000 non-null   object\n",
      " 10  Industry           1000 non-null   object\n",
      " 11  Sector             1000 non-null   object\n",
      " 12  Revenue            1000 non-null   object\n",
      " 13  Competitors        1000 non-null   int64 \n",
      "dtypes: int64(1), object(13)\n",
      "memory usage: 109.5+ KB\n"
     ]
    },
    {
     "data": {
      "text/plain": [
       "None"
      ]
     },
     "metadata": {},
     "output_type": "display_data"
    }
   ],
   "source": [
    "# Read data and print shape\n",
    "raw_df = pd.read_pickle(DF_PATH_PKL)\n",
    "df = raw_df.copy()\n",
    "display(raw_df.shape)\n",
    "# display(raw_df.head(2))\n",
    "display(raw_df.columns)\n",
    "display(raw_df.info())"
   ]
  },
  {
   "cell_type": "code",
   "execution_count": 4,
   "metadata": {},
   "outputs": [
    {
     "data": {
      "text/plain": [
       "Job Title            HEALTHCARE DATA SCIENTIST, FCH - ENTERPRISE AN...\n",
       "Salary Estimate                                                     -1\n",
       "Job Description      Come join our award winning team! See What Is ...\n",
       "Rating                                                             3.7\n",
       "Company Name                                            Froedtert\\n3.7\n",
       "Location                                             Mountain View, CA\n",
       "Headquarters                                     Catherine A. Jacobson\n",
       "Size                                            1001 to 5000 Employees\n",
       "Founded                                                           1965\n",
       "Type of ownership                               Nonprofit Organization\n",
       "Industry                              Health Care Services & Hospitals\n",
       "Sector                                                      Healthcare\n",
       "Revenue                                         $1 to $5 billion (USD)\n",
       "Competitors                                                         -1\n",
       "Name: 409, dtype: object"
      ]
     },
     "execution_count": 4,
     "metadata": {},
     "output_type": "execute_result"
    }
   ],
   "source": [
    "raw_df.sample(1).iloc[0]"
   ]
  },
  {
   "cell_type": "code",
   "execution_count": 5,
   "metadata": {},
   "outputs": [
    {
     "name": "stdout",
     "output_type": "stream",
     "text": [
      "Salary Estimate\n",
      "['$87K - $121K (Glassdoor est.)', '$70K - $108K (Glassdoor est.)', -1, 'Employer Provided Salary:$67K - $120K', '$114K - $164K (Glassdoor est.)', 'Employer Provided Salary:$65K - $80K', '$99K - $145K (Glassdoor est.)', 'Employer Provided Salary:$50.00 - $55.00 Per Hour', '$84K - $129K (Glassdoor est.)', 'Employer Provided Salary:$105K - $135K', '$81K - $113K (Glassdoor est.)', '$97K - $138K (Glassdoor est.)', '$112K - $189K (Glassdoor est.)', '$76K - $110K (Glassdoor est.)', 'Employer Provided Salary:$100K - $225K', 'Employer Provided Salary:$98K - $116K', '$105K - $170K (Glassdoor est.)', 'Employer Provided Salary:$114K - $131K', '$114K - $172K (Glassdoor est.)', 'Employer Provided Salary:$150K - $160K', 'Employer Provided Salary:$78K - $150K', '$84K - $123K (Glassdoor est.)', '$91K - $122K (Glassdoor est.)', '$79K - $125K (Glassdoor est.)', 'Employer Provided Salary:$115K - $144K', '$88K - $142K (Glassdoor est.)', '$80K - $122K (Glassdoor est.)', 'Employer Provided Salary:$96K - $220K', '$74K - $119K (Glassdoor est.)', 'Employer Provided Salary:$60K - $129K', '$137K - $191K (Glassdoor est.)', '$90K - $131K (Glassdoor est.)', 'Employer Provided Salary:$80K - $110K', '$81K - $123K (Glassdoor est.)', '$72K - $109K (Glassdoor est.)', 'Employer Provided Salary:$69K - $169K', 'Employer Provided Salary:$20.11 Per Hour', '$83K - $116K (Glassdoor est.)', 'Employer Provided Salary:$125K - $195K', '$92K - $128K (Glassdoor est.)', 'Employer Provided Salary:$76K - $95K', 'Employer Provided Salary:$70.00 - $80.00 Per Hour', '$86K - $133K (Glassdoor est.)', 'Employer Provided Salary:$90K - $99K', 'Employer Provided Salary:$114K - $211K', 'Employer Provided Salary:$75K - $176K', 'Employer Provided Salary:$130K - $218K', '$90K - $132K (Glassdoor est.)', '$80K - $114K (Glassdoor est.)', '$92K - $143K (Glassdoor est.)', '$76K - $117K (Glassdoor est.)', 'Employer Provided Salary:$55K - $60K', 'Employer Provided Salary:$143K - $200K', '$85K - $121K (Glassdoor est.)', 'Employer Provided Salary:$100K - $350K', 'Employer Provided Salary:$91K - $113K', 'Employer Provided Salary:$100K - $120K', 'Employer Provided Salary:$115K - $140K', '$84K - $122K (Glassdoor est.)', '$105K - $164K (Glassdoor est.)', '$98K - $142K (Glassdoor est.)', '$99K - $144K (Glassdoor est.)', '$90K - $141K (Glassdoor est.)', '$82K - $131K (Glassdoor est.)', '$72K - $111K (Glassdoor est.)', '$86K - $122K (Glassdoor est.)', '$106K - $163K (Glassdoor est.)', '$137K - $195K (Glassdoor est.)', 'Employer Provided Salary:$136K - $177K', '$72K - $112K (Glassdoor est.)', '$94K - $133K (Glassdoor est.)', 'Employer Provided Salary:$145K - $169K', '$113K - $162K (Glassdoor est.)', '$94K - $130K (Glassdoor est.)', '$105K - $145K (Glassdoor est.)', '$83K - $120K (Glassdoor est.)', '$113K - $156K (Glassdoor est.)', '$73K - $113K (Glassdoor est.)', '$76K - $113K (Glassdoor est.)']\n",
      "--------------------------------------------\n",
      "\n",
      "Rating\n",
      "['4.1', -1, '4.0', '4.2', '3.9', '4.4', '4.3', '4.7', '4.9', '3.8', '4.5', '2.6', '3.1', '3.5', '3.6', '3.7', '2.2', '3.4', '3.3']\n",
      "--------------------------------------------\n",
      "\n",
      "Company Name\n",
      "['John Deere\\n4.1', 'World Bank Group\\n4.2', 'ClaimLogiq\\n4.0', 'Apple\\n4.2', 'UT Southwestern Medical Center\\n3.9', 'Microsoft\\n4.4', 'CODING DOJO INC\\n3.9', 'Walker & Dunlop\\n4.3', 'PayPal\\n4.0', 'CaritateTech', 'Net2Aspire', 'Unilever\\n4.1', 'Atlassian\\n4.7', 'Notion\\n4.9', 'Cloud Primero', 'Narvee Technologies pvt ltd', 'Saint-Gobain\\n4.0', 'JPMorgan Chase Bank, N.A.\\n3.8', 'Interclypse Inc\\n4.5', 'Caterpillar\\n4.0', 'Analog Devices\\n4.1', 'Northrop Grumman Federal Credit Union\\n2.6', 'The Trade Desk\\n4.3', 'Genentech\\n4.3', 'Noblis\\n4.4', 'Synaptec Health', 'Frontier Communications\\n3.1', 'Peek Vision Ltd', 'Activision\\n3.5', 'Disney Media & Entertainment Distribution\\n3.9', 'Waymo\\n3.9', 'Paramount Networks International\\n3.9', 'proit-inc', 'Verizon\\n3.9', 'Truist Financial\\n3.5', 'Lightcast\\n4.4', 'Oscar Health\\n3.6', 'Smartcar\\n4.7', 'Crum & Forster\\n4.2', 'Yelp\\n3.6', 'Mastercard\\n4.3', 'CVS Health\\n3.1', 'Jun Group\\n4.1', 'Continental Finance Company\\n4.4', 'John Snow Labs\\n4.1', 'FirstEnergy Corp\\n3.6', 'State Farm\\n3.7', 'Sunixa Solutions', 'Safety National\\n3.8', 'BOEING\\n3.8', 'Wolverine Trading\\n4.3', 'NYC Careers\\n3.7', 'Sabre Systems Inc.\\n4.7', 'Ranial Systems Inc.', 'Roche\\n4.3', 'Dworo.io', 'National Security Agency\\n3.5', 'Fidelity Investments\\n4.3', 'Elevance Health\\n3.7', 'Spotify\\n4.3', 'IFC Systems Corporation\\n4.0', 'Augray\\n4.1', 'US National Security Agency/Central Security Service\\n2.6', 'LexisNexis\\n3.9', 'dYdX\\n4.4', 'VNS Health\\n3.5', 'SupplyHouse\\n3.9', 'Dataworks', 'Peapod Digital Labs\\n4.1', 'Acelot\\n3.1', 'Spring Health\\n3.8', 'Citi\\n3.9', 'N1 solutions', 'Source Enterprises\\n2.2', \"L'Oreal\\n3.9\", 'Vanguard\\n3.7', 'Lucid Motors\\n3.4', 'Peloton\\n3.6', 'QVC\\n3.5', 'BEN Group, Inc\\n3.6', 'Fetch Rewards\\n3.8', 'Delta\\n4.3', 'Froedtert\\n3.7', 'Rockstar Games\\n4.4', 'Novo Nordisk\\n4.2', 'American Express Global Business Travel\\n3.8', 'Abbott Laboratories\\n3.8', 'CaaStle\\n3.5', 'Booz Allen Hamilton\\n4.2', 'University of Maryland Medical System\\n3.3']\n",
      "--------------------------------------------\n",
      "\n",
      "Location\n",
      "['Washington, DC', 'Cupertino, CA', \"O'Fallon, MO\", 'New York, NY', 'Fort Meade, MD', 'Mountain View, CA', 'Remote', 'Annapolis Junction, MD']\n",
      "--------------------------------------------\n",
      "\n",
      "Headquarters\n",
      "['John May', -1, '', 'Tim Cook', 'Daniel K. Podolsky, M.D.', 'Satya Nadella', 'Richard Wang', 'William M. Walker', 'Dan Schulman', 'Alan Jope', 'Scott Farquhar & Mike Cannon-Brookes', 'Ivan Zhao', 'Benoit Bazin', 'Jamie Dimon', 'Scott Delcore', 'Jim Umpleby', 'Vincent Roche', 'Jeff Green', 'Alexander Hardy', 'Mile Corrigan', 'Nick Jeffery', 'Rob Kostich', 'Bob Chapek', 'Tekedra Mawakana and Dmitri Dolgov', 'Robert Bakish', 'Hans Vestberg', 'William H. Rogers, Jr.', 'Andreas Kisslinger', 'Mario T. Schlosser', 'Sahas Katta', 'Marc J. Adee', 'Jeremy Stoppelman', 'Michael Miebach', 'Karen S. Lynch', 'Corey Weiner', 'Steve McSorley', 'Steven E. Strah', 'Michael L. Tipsord', 'Mark A. Wilhelm', 'David Calhoun', 'Robert Ross Bellick', 'Bill de Blasio', 'Phil Jaurigue', 'Severin Schwan', 'General Paul M. Nakasone', 'Abby Johnson', 'Gail K. Boudreaux', 'Daniel Ek', 'Makhtar Diop', 'Suresh Thankavel', 'Mike Walsh', 'Antonio Juliano', 'Dan Savitt', 'Josh Meyerowitz', 'JJ Fleeman', 'April Koh', 'Jane Fraser', 'L. Londell McMillan', 'Nicolas Hieronimus', 'Tim Buckley', 'Peter Rawlinson', 'Barry McCarthy', 'David Rawlinson II', 'Ricky Ray Butler', 'Wes Schroll', 'Ed Bastian', 'Catherine A. Jacobson', 'Sam Houser', 'Lars Fruergaard Jørgensen', 'Paul Abbott', 'Robert Ford', 'Christine Hunsicker', 'Horacio D. Rozanski', 'Mohan Suntha, MD, MBA']\n",
      "--------------------------------------------\n",
      "\n",
      "Size\n",
      "['10000+ Employees', '201 to 500 Employees', '51 to 200 Employees', '1001 to 5000 Employees', -1, 'Unknown', '5001 to 10000 Employees', '1 to 50 Employees', '501 to 1000 Employees']\n",
      "--------------------------------------------\n",
      "\n",
      "Founded\n",
      "['1837', 'Nonprofit Organization', 'Company - Public', '1976', '1943', '1975', '2013', '1937', '1998', -1, '1872', '2002', '2016', '1665', '1799', '2007', '1925', '1965', '1946', '2009', '1996', '1935', '1979', '1923', '2019', '2000', '2011', '2012', '2015', '1822', '2004', '1966', '1963', '2005', '1997', '1922', '1942', '1916', '1994', '1625', '1989', '1896', 'Government', '2006', '1956', '2014', 'Company - Private', '1818', '2017', '1893', '2021', '2018', '1812', '1909', '1928', '1915', '1888', '1914', '1984']\n",
      "--------------------------------------------\n",
      "\n",
      "Type of ownership\n",
      "['Company - Public', '$1 to $5 billion (USD)', 'Unknown / Non-Applicable', 'Hospital', 'Company - Private', -1, 'Nonprofit Organization', 'Subsidiary or Business Segment', 'Government', 'National Agencies', '$5 to $25 million (USD)', 'Publishing', 'Self-employed']\n",
      "--------------------------------------------\n",
      "\n",
      "Industry\n",
      "['Machinery Manufacturing', -1, 'Computer Hardware Development', 'Health Care Services & Hospitals', 'Education & Training Services', 'Investment & Asset Management', 'Internet & Web Services', 'Consumer Product Manufacturing', 'Software Development', 'Enterprise Software & Network Solutions', 'Banking & Lending', 'Electronics Manufacturing', 'Biotech & Pharmaceuticals', 'Business Consulting', 'Cable, Internet & Telephone Providers', 'Video Game Publishing', 'Film Production', 'Telecommunications Services', 'State & Regional Agencies', 'Insurance Agencies & Brokerages', 'Insurance Carriers', 'Financial Transaction Processing', 'Energy & Utilities', 'Aerospace & Defense', 'Municipal Agencies', 'Government & Public Administration', 'Information Technology Support Services', 'Other Retail Stores', 'Media & Communication', 'Transportation Equipment Manufacturing', 'Advertising & Public Relations', 'Airlines, Airports & Air Transportation', 'Travel Agencies']\n",
      "--------------------------------------------\n",
      "\n",
      "Sector\n",
      "['Manufacturing', -1, 'Information Technology', 'Healthcare', 'Education', 'Financial Services', 'Pharmaceutical & Biotechnology', 'Management & Consulting', 'Telecommunications', 'Media & Communication', 'Government & Public Administration', 'Insurance', 'Energy, Mining & Utilities', 'Aerospace & Defense', 'Unknown / Non-Applicable', 'Retail & Wholesale', 'Transportation & Logistics', 'Hotels & Travel Accommodation']\n",
      "--------------------------------------------\n",
      "\n",
      "Revenue\n",
      "['$10+ billion (USD)', -1, '$1 to $5 billion (USD)', '$5 to $25 million (USD)', 'Unknown / Non-Applicable', '$25 to $100 million (USD)', '$100 to $500 million (USD)', '$500 million to $1 billion (USD)', '$5 to $10 billion (USD)', '$1 to $5 million (USD)']\n",
      "--------------------------------------------\n",
      "\n",
      "Competitors\n",
      "[-1]\n",
      "--------------------------------------------\n",
      "\n"
     ]
    }
   ],
   "source": [
    "# Invesigate the questionable objects columns\n",
    "questionable_cols = ['Salary Estimate', 'Rating','Company Name', 'Location',\n",
    "                     'Headquarters', 'Size', 'Founded','Type of ownership',\n",
    "                     'Industry', 'Sector', 'Revenue', 'Competitors']\n",
    "\n",
    "for col in questionable_cols:\n",
    "    print(col)\n",
    "    print(raw_df[col].unique().tolist()[:1000])\n",
    "    print('--------------------------------------------')\n",
    "    print()"
   ]
  },
  {
   "cell_type": "code",
   "execution_count": 6,
   "metadata": {},
   "outputs": [],
   "source": [
    "################################ From Investigation ################################\n",
    "# --> 'Salary Estimate'  : int\n",
    "# some in ['Per Hour', 'Glassdoor est.)', 'Employer Provided Salary', '-1']\n",
    "# remove all '-1' items\n",
    "# in a string format, needed to remove all strings and change format into int\n",
    "################################\n",
    "# --> 'Rating'  : int\n",
    "# in string format\n",
    "# '-1' represent not collected data\n",
    "# remove that have '-1' and change format to int\n",
    "################################\n",
    "# --> 'Company Name'  : string\n",
    "# contain '\\n' and the rating\n",
    "# remove '\\n' and the rating\n",
    "################################\n",
    "# --> 'Location'   : string\n",
    "# contain Duplicate shortcuts ['Fort Meade, MD', 'Annapolis Junction, MD']\n",
    "################################\n",
    "# --> 'Headquarters'  : string\n",
    "# replace '' with '-1'\n",
    "# remove '-1' items\n",
    "################################\n",
    "# --> 'Size'  : \n",
    "# replace 'Unknown' with '-1'\n",
    "# it consist of 7-classes\n",
    "################################\n",
    "# --> 'Founded' : int\n",
    "# replace non-numeric values with '-1'\n",
    "# change format to int\n",
    "# remove all '-1' items\n",
    "################################\n",
    "# --> 'Type of ownership'   : string\n",
    "# replace ['$1 to $5 billion (USD)', 'Unknown / Non-Applicable'] with '-1'\n",
    "# remove all '-1' items\n",
    "################################\n",
    "# --> 'Industry'  : string\n",
    "# remove all -1 items\n",
    "################################\n",
    "# --> 'Sector'  :  string \n",
    "# replace 'Unknown / Non-Applicable' with '-1'\n",
    "# remove all '-1' items\n",
    "################################\n",
    "# --> 'Revenue'  : \n",
    "# replace 'Unknown / Non-Applicable' with '-1'\n",
    "# it consist of 8-classes \n",
    "################################\n",
    "# --> 'Competitors'  \n",
    "# no collected data at all\n",
    "# column can be removed "
   ]
  },
  {
   "cell_type": "code",
   "execution_count": 7,
   "metadata": {},
   "outputs": [],
   "source": [
    "# Tasks on data to do\n",
    "##### slary parsing\n",
    "##### Company name text only\n",
    "##### state field\n",
    "##### age of compny\n",
    "##### parsing of job description (python, etc)\n",
    "\n",
    "#####################################################\n",
    "#[1] slary parsing\n",
    "# df[df['Salary Estimate'] == -1]                                       # filter to view\n",
    "df = df[df['Salary Estimate'] != -1]                                    # remove all '-1' items\n",
    "salary = df['Salary Estimate'].apply(lambda x: x.split('(')[0])         # remove '(Glassdoor est.)' [which is glassdors estimation] in a new variable 'salary'\n",
    "minus_kd = salary.apply(lambda x: x.replace('K','').replace('$',''))    # remove 'K' and '$' from last variable 'salary', in a new varaible \n",
    "min_hr = minus_kd.apply(lambda x: x.lower().replace('per hour','')\\\n",
    "                        .replace('employer provided salary:',''))       # replace 'per hour' & 'employer provided salary:' with '',\n",
    "                                                                        # by that, the remaining values is ranged [min - max] some annuall and others on hourly\n",
    "\n",
    "# on 'min_salary' : because there can not be min salary = 0, so if there is only one value on data , it will be the max and min slary\n",
    "df['min_salary'] = min_hr.apply(lambda x: x.split('-')[0] if len(x.split('-'))==1 else x.split('-')[0] ).astype(np.float32).astype(np.int64)\n",
    "df['max_salary'] = min_hr.apply(lambda x: x.split('-')[0] if len(x.split('-'))==1 else x.split('-')[1] ).astype(np.float32).astype(np.int64)\n",
    "df['avg_salary'] = (df['min_salary'] + df['max_salary'])/2\n",
    "\n",
    "# df.loc[df['Salary Estimate'].str.contains('Per Hour')]                                    # filter to view\n",
    "df[\"hourly\"] = df['Salary Estimate'].apply(lambda x: 1 if 'per hour' in x.lower() else 0)   # new column represent 'per hour' state \n",
    "df[\"employer_provided\"] = df['Salary Estimate'].apply(lambda x: 1 if 'employer provided salary:' in x.lower() else 0)  # new column represent 'employer provided salary:' state \n",
    " \n",
    "# the state Explanation:\n",
    "# hourly      -    employer_provided\n",
    "#   1                     0               : The salary offered by the company per hour\n",
    "#   0                     1               : The salary offered by the company per year\n",
    "#   0                     0               : The salary is glosdoor estimation"
   ]
  },
  {
   "cell_type": "code",
   "execution_count": 8,
   "metadata": {},
   "outputs": [
    {
     "data": {
      "text/plain": [
       "(546, 19)"
      ]
     },
     "execution_count": 8,
     "metadata": {},
     "output_type": "execute_result"
    }
   ],
   "source": [
    "# Test for duplicates\n",
    "duplicate = df[df.duplicated()]\n",
    "duplicate.shape"
   ]
  },
  {
   "cell_type": "code",
   "execution_count": 9,
   "metadata": {},
   "outputs": [
    {
     "name": "stderr",
     "output_type": "stream",
     "text": [
      "/Users/ahmadsamir/opt/anaconda3/envs/py37/lib/python3.7/site-packages/ipykernel_launcher.py:7: FutureWarning: The default value of regex will change from True to False in a future version.\n",
      "  import sys\n",
      "/Users/ahmadsamir/opt/anaconda3/envs/py37/lib/python3.7/site-packages/ipykernel_launcher.py:8: FutureWarning: The default value of regex will change from True to False in a future version. In addition, single character regular expressions will *not* be treated as literal strings when regex=True.\n",
      "  \n"
     ]
    }
   ],
   "source": [
    "# change 'Rating' format to int \n",
    "df['Rating'] = df['Rating'].astype(np.float32).astype(np.int64)\n",
    "# df = df[df['Rating'] != -1]                                         # when removing all '-1' items the shape changed from (835,20) to (715,20), so Iam not suring about that step\n",
    "# display(df['Rating'].dtype)\n",
    "\n",
    "# [2] Company name text only\n",
    "df['Company Name'] = df['Company Name'].str.replace('[0-9]','')\\\n",
    "                        .str.replace('.','').str.replace('\\n','')     # removing raing numbres and '\\n' "
   ]
  },
  {
   "cell_type": "code",
   "execution_count": 10,
   "metadata": {},
   "outputs": [
    {
     "data": {
      "text/plain": [
       "Remote                404\n",
       "Mountain View         246\n",
       "O'Fallon               58\n",
       "New York               30\n",
       "Fort Meade             28\n",
       "Cupertino              27\n",
       "Annapolis Junction     25\n",
       "Washington             17\n",
       "Name: job_state, dtype: int64"
      ]
     },
     "execution_count": 10,
     "metadata": {},
     "output_type": "execute_result"
    }
   ],
   "source": [
    "# [3] state field\n",
    "df['job_state'] = df['Location'].apply(lambda x: x.split(',')[0]if len(x.split(',')) == 1 else x.split(',')[0])   # remove shortcuts    \n",
    "df['job_state'].value_counts()\n",
    "# df['some_state'] = df.apply(lambda x: 1 if x['Location'] == x['Headquarters'] else 0, axis=1)"
   ]
  },
  {
   "cell_type": "code",
   "execution_count": 11,
   "metadata": {},
   "outputs": [],
   "source": [
    "# [4] replace columns values from investigation\n",
    "# []\n",
    "for col, replacement in REPLACED_DICT.items() :\n",
    "    if col == 'Founded':\n",
    "        df[col] = df[col].replace(replacement).astype(np.int64)\n",
    "    else:\n",
    "        df[col] = df[col].replace(replacement)\n",
    " \n",
    "# [5] age of company   \n",
    "# new feature \n",
    "df['Comp_Age'] = df['Founded'].apply(lambda x: x if x < 1 else 2022 - x)"
   ]
  },
  {
   "cell_type": "code",
   "execution_count": 12,
   "metadata": {},
   "outputs": [],
   "source": [
    "# [6] size\n",
    "df.rename(columns = {'Size':'Comp_Size'}, inplace = True)"
   ]
  },
  {
   "cell_type": "code",
   "execution_count": 13,
   "metadata": {},
   "outputs": [
    {
     "data": {
      "text/plain": [
       "Index(['Remote', 'Mountain View, CA', 'O'Fallon, MO', 'New York, NY',\n",
       "       'Fort Meade, MD', 'Cupertino, CA', 'Annapolis Junction, MD',\n",
       "       'Washington, DC'],\n",
       "      dtype='object')"
      ]
     },
     "execution_count": 13,
     "metadata": {},
     "output_type": "execute_result"
    }
   ],
   "source": [
    "# df['Location'].value_counts(normalize=True)[1]\n",
    "df['Location'].value_counts(normalize=True).index"
   ]
  },
  {
   "cell_type": "code",
   "execution_count": 14,
   "metadata": {},
   "outputs": [
    {
     "name": "stdout",
     "output_type": "stream",
     "text": [
      "python\n",
      "1    0.79521\n",
      "0    0.20479\n",
      "Name: Job Description, dtype: float64\n",
      "javascript\n",
      "0    0.997605\n",
      "1    0.002395\n",
      "Name: Job Description, dtype: float64\n",
      "r_studio\n",
      "0    1.0\n",
      "Name: Job Description, dtype: float64\n",
      "r studio\n",
      "0    0.898204\n",
      "1    0.101796\n",
      "Name: Job Description, dtype: float64\n",
      "sas\n",
      "0    0.898204\n",
      "1    0.101796\n",
      "Name: Job Description, dtype: float64\n",
      "sql\n",
      "1    0.565269\n",
      "0    0.434731\n",
      "Name: Job Description, dtype: float64\n",
      "postgresql\n",
      "0    0.998802\n",
      "1    0.001198\n",
      "Name: Job Description, dtype: float64\n",
      "mysql\n",
      "0    0.998802\n",
      "1    0.001198\n",
      "Name: Job Description, dtype: float64\n",
      "excel\n",
      "0    0.670659\n",
      "1    0.329341\n",
      "Name: Job Description, dtype: float64\n",
      "tableau\n",
      "0    0.723353\n",
      "1    0.276647\n",
      "Name: Job Description, dtype: float64\n",
      "power bi\n",
      "0    0.948503\n",
      "1    0.051497\n",
      "Name: Job Description, dtype: float64\n",
      "power_bi\n",
      "0    1.0\n",
      "Name: Job Description, dtype: float64\n",
      "tensorflow\n",
      "0    0.882635\n",
      "1    0.117365\n",
      "Name: Job Description, dtype: float64\n",
      "aws\n",
      "0    0.791617\n",
      "1    0.208383\n",
      "Name: Job Description, dtype: float64\n",
      "azure\n",
      "0    0.959281\n",
      "1    0.040719\n",
      "Name: Job Description, dtype: float64\n",
      "git\n",
      "0    0.646707\n",
      "1    0.353293\n",
      "Name: Job Description, dtype: float64\n",
      "keras\n",
      "0    0.959281\n",
      "1    0.040719\n",
      "Name: Job Description, dtype: float64\n",
      "flask\n",
      "0    1.0\n",
      "Name: Job Description, dtype: float64\n",
      "spark\n",
      "0    0.796407\n",
      "1    0.203593\n",
      "Name: Job Description, dtype: float64\n",
      "docker\n",
      "0    0.923353\n",
      "1    0.076647\n",
      "Name: Job Description, dtype: float64\n",
      "pytorch\n",
      "0    0.920958\n",
      "1    0.079042\n",
      "Name: Job Description, dtype: float64\n"
     ]
    }
   ],
   "source": [
    "# [7] parsing of job description\n",
    "# investigate on skills\n",
    "for skill in DS_SKILLS_LIST[:]:\n",
    "    print(skill)\n",
    "    temp = df['Job Description'].apply(lambda x: 1 if skill in x.lower() else 0)\n",
    "    print(temp.value_counts(normalize=True,sort=True))\n",
    "\n",
    "# Selecting skill that Presence of more than 20%\n",
    "collected_skills = ['python','sql','excel','tableau','aws','git','spark']\n",
    "\n",
    "# New feature from collected skills [yn stands for yes no]\n",
    "for skill in collected_skills :\n",
    "    df[f'{skill}_yn'] = df['Job Description'].apply(lambda x: 1 if skill in x.lower() else 0)\n"
   ]
  },
  {
   "cell_type": "markdown",
   "metadata": {},
   "source": [
    "### Visually verify results"
   ]
  },
  {
   "cell_type": "code",
   "execution_count": 15,
   "metadata": {},
   "outputs": [
    {
     "name": "stdout",
     "output_type": "stream",
     "text": [
      "Job Title                                        Junior Data Scientist\n",
      "Salary Estimate                          $70K - $108K (Glassdoor est.)\n",
      "Job Description      Job #:\\nreq19774\\n\\nOrganization:\\nWorld Bank\\...\n",
      "Rating                                                              -1\n",
      "Company Name                                     World Bank Group\\n4.2\n",
      "Location                                             Mountain View, CA\n",
      "Headquarters                                                        -1\n",
      "Size                                                  10000+ Employees\n",
      "Founded                                         Nonprofit Organization\n",
      "Type of ownership                               $1 to $5 billion (USD)\n",
      "Industry                                                            -1\n",
      "Sector                                                              -1\n",
      "Revenue                                                             -1\n",
      "Competitors                                                         -1\n",
      "Name: 245, dtype: object\n",
      "####################################################################################################\n",
      "Job Title                                        Junior Data Scientist\n",
      "Salary Estimate                          $70K - $108K (Glassdoor est.)\n",
      "Job Description      Job #:\\nreq19774\\n\\nOrganization:\\nWorld Bank\\...\n",
      "Rating                                                              -1\n",
      "Company Name                                          World Bank Group\n",
      "Location                                             Mountain View, CA\n",
      "Headquarters                                                        -1\n",
      "Comp_Size                                             10000+ Employees\n",
      "Founded                                                             -1\n",
      "Type of ownership                                                   -1\n",
      "Industry                                                            -1\n",
      "Sector                                                              -1\n",
      "Revenue                                                             -1\n",
      "Competitors                                                         -1\n",
      "min_salary                                                          70\n",
      "max_salary                                                         108\n",
      "avg_salary                                                        89.0\n",
      "hourly                                                               0\n",
      "employer_provided                                                    0\n",
      "job_state                                                Mountain View\n",
      "Comp_Age                                                            -1\n",
      "python_yn                                                            1\n",
      "sql_yn                                                               0\n",
      "excel_yn                                                             1\n",
      "tableau_yn                                                           0\n",
      "aws_yn                                                               1\n",
      "git_yn                                                               1\n",
      "spark_yn                                                             0\n",
      "Name: 245, dtype: object\n"
     ]
    }
   ],
   "source": [
    "copy_raw_df = raw_df.copy()\n",
    "copy_raw_df = copy_raw_df[copy_raw_df['Salary Estimate'] != -1]         # to unify the index\n",
    "i = df.sample(1).index[0]\n",
    "print(copy_raw_df.iloc[i])\n",
    "print('#'*100)\n",
    "print(df.iloc[i])"
   ]
  },
  {
   "cell_type": "code",
   "execution_count": 16,
   "metadata": {},
   "outputs": [
    {
     "data": {
      "text/plain": [
       "Index(['Job Title', 'Salary Estimate', 'Job Description', 'Rating',\n",
       "       'Company Name', 'Location', 'Headquarters', 'Comp_Size', 'Founded',\n",
       "       'Type of ownership', 'Industry', 'Sector', 'Revenue', 'Competitors',\n",
       "       'min_salary', 'max_salary', 'avg_salary', 'hourly', 'employer_provided',\n",
       "       'job_state', 'Comp_Age', 'python_yn', 'sql_yn', 'excel_yn',\n",
       "       'tableau_yn', 'aws_yn', 'git_yn', 'spark_yn'],\n",
       "      dtype='object')"
      ]
     },
     "execution_count": 16,
     "metadata": {},
     "output_type": "execute_result"
    }
   ],
   "source": [
    "df.columns"
   ]
  },
  {
   "cell_type": "code",
   "execution_count": 17,
   "metadata": {},
   "outputs": [],
   "source": [
    "df.to_pickle(EXPORT_PATH_PKL)\n",
    "df.to_csv(EXPORT_PATH_CSV,index=False)"
   ]
  }
 ],
 "metadata": {
  "interpreter": {
   "hash": "2b171981365874f4915c1816f250cec3a86f6228f0c6c7a868ff701d9f9f446a"
  },
  "kernelspec": {
   "display_name": "Python 3.7.12 ('py37')",
   "language": "python",
   "name": "python3"
  },
  "language_info": {
   "codemirror_mode": {
    "name": "ipython",
    "version": 3
   },
   "file_extension": ".py",
   "mimetype": "text/x-python",
   "name": "python",
   "nbconvert_exporter": "python",
   "pygments_lexer": "ipython3",
   "version": "3.7.13"
  },
  "orig_nbformat": 4
 },
 "nbformat": 4,
 "nbformat_minor": 2
}

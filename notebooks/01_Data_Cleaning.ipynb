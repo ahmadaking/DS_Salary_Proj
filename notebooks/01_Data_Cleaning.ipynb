{
 "cells": [
  {
   "cell_type": "code",
   "execution_count": 32,
   "metadata": {},
   "outputs": [],
   "source": [
    "# Constants\n",
    "KEYWORD=\"data scientist\"\n",
    "COUNTRY = \"United States\"\n",
    "NUM_OF_JOBS= 1000\n",
    "DF_PATH_PKL = f\"../data/raw/1_{NUM_OF_JOBS}_jobs_{KEYWORD}_{COUNTRY}_collected_raw_data_df.pkl\"\n",
    "DF_PATH_CSV = f\"../data/raw/1_{NUM_OF_JOBS}_jobs_{KEYWORD}_{COUNTRY}_collected_raw_data_df.csv\"\n",
    "\n",
    "EXPORT_PATH_PKL = f\"../data/raw/2_{NUM_OF_JOBS}_jobs_{KEYWORD}_{COUNTRY}_cleaned_data_df.pkl\"\n",
    "EXPORT_PATH_CSV = f\"../data/raw/2_{NUM_OF_JOBS}_jobs_{KEYWORD}_{COUNTRY}_cleaned_data_df.csv\"\n",
    "\n",
    "FIG_DIR = \"../reports/figures\"\n",
    "\n",
    "REPLACED_DICT = {\n",
    "    'Founded' : {'Nonprofit Organization' : -1, 'Government' : -1, 'Company - Private' : -1,\n",
    "                 'Government' : -1, 'Company - Public': -1}\n",
    "}"
   ]
  },
  {
   "cell_type": "code",
   "execution_count": 39,
   "metadata": {},
   "outputs": [],
   "source": [
    "# Load packages\n",
    "import pandas as pd\n",
    "import numpy as np\n",
    "\n",
    "pd.options.display.max_rows = 10000\n",
    "pd.options.display.max_columns = 10000"
   ]
  },
  {
   "cell_type": "code",
   "execution_count": 3,
   "metadata": {},
   "outputs": [
    {
     "data": {
      "text/plain": [
       "(1000, 14)"
      ]
     },
     "metadata": {},
     "output_type": "display_data"
    },
    {
     "data": {
      "text/plain": [
       "Index(['Job Title', 'Salary Estimate', 'Job Description', 'Rating',\n",
       "       'Company Name', 'Location', 'Headquarters', 'Size', 'Founded',\n",
       "       'Type of ownership', 'Industry', 'Sector', 'Revenue', 'Competitors'],\n",
       "      dtype='object')"
      ]
     },
     "metadata": {},
     "output_type": "display_data"
    },
    {
     "name": "stdout",
     "output_type": "stream",
     "text": [
      "<class 'pandas.core.frame.DataFrame'>\n",
      "RangeIndex: 1000 entries, 0 to 999\n",
      "Data columns (total 14 columns):\n",
      " #   Column             Non-Null Count  Dtype \n",
      "---  ------             --------------  ----- \n",
      " 0   Job Title          1000 non-null   object\n",
      " 1   Salary Estimate    1000 non-null   object\n",
      " 2   Job Description    1000 non-null   object\n",
      " 3   Rating             1000 non-null   object\n",
      " 4   Company Name       1000 non-null   object\n",
      " 5   Location           1000 non-null   object\n",
      " 6   Headquarters       1000 non-null   object\n",
      " 7   Size               1000 non-null   object\n",
      " 8   Founded            1000 non-null   object\n",
      " 9   Type of ownership  1000 non-null   object\n",
      " 10  Industry           1000 non-null   object\n",
      " 11  Sector             1000 non-null   object\n",
      " 12  Revenue            1000 non-null   object\n",
      " 13  Competitors        1000 non-null   int64 \n",
      "dtypes: int64(1), object(13)\n",
      "memory usage: 109.5+ KB\n"
     ]
    },
    {
     "data": {
      "text/plain": [
       "None"
      ]
     },
     "metadata": {},
     "output_type": "display_data"
    }
   ],
   "source": [
    "# Read data and print shape\n",
    "raw_df = pd.read_pickle(DF_PATH_PKL)\n",
    "display(raw_df.shape)\n",
    "# display(raw_df.head(2))\n",
    "display(raw_df.columns)\n",
    "display(raw_df.info())"
   ]
  },
  {
   "cell_type": "code",
   "execution_count": 4,
   "metadata": {},
   "outputs": [
    {
     "name": "stdout",
     "output_type": "stream",
     "text": [
      "Salary Estimate\n",
      "['$87K - $121K (Glassdoor est.)', '$70K - $108K (Glassdoor est.)', -1, 'Employer Provided Salary:$67K - $120K', '$114K - $164K (Glassdoor est.)', 'Employer Provided Salary:$65K - $80K', '$99K - $145K (Glassdoor est.)', 'Employer Provided Salary:$50.00 - $55.00 Per Hour', '$84K - $129K (Glassdoor est.)', 'Employer Provided Salary:$105K - $135K', '$81K - $113K (Glassdoor est.)', '$97K - $138K (Glassdoor est.)', '$112K - $189K (Glassdoor est.)', '$76K - $110K (Glassdoor est.)', 'Employer Provided Salary:$100K - $225K', 'Employer Provided Salary:$98K - $116K', '$105K - $170K (Glassdoor est.)', 'Employer Provided Salary:$114K - $131K', '$114K - $172K (Glassdoor est.)', 'Employer Provided Salary:$150K - $160K', 'Employer Provided Salary:$78K - $150K', '$84K - $123K (Glassdoor est.)', '$91K - $122K (Glassdoor est.)', '$79K - $125K (Glassdoor est.)', 'Employer Provided Salary:$115K - $144K', '$88K - $142K (Glassdoor est.)', '$80K - $122K (Glassdoor est.)', 'Employer Provided Salary:$96K - $220K', '$74K - $119K (Glassdoor est.)', 'Employer Provided Salary:$60K - $129K', '$137K - $191K (Glassdoor est.)', '$90K - $131K (Glassdoor est.)', 'Employer Provided Salary:$80K - $110K', '$81K - $123K (Glassdoor est.)', '$72K - $109K (Glassdoor est.)', 'Employer Provided Salary:$69K - $169K', 'Employer Provided Salary:$20.11 Per Hour', '$83K - $116K (Glassdoor est.)', 'Employer Provided Salary:$125K - $195K', '$92K - $128K (Glassdoor est.)', 'Employer Provided Salary:$76K - $95K', 'Employer Provided Salary:$70.00 - $80.00 Per Hour', '$86K - $133K (Glassdoor est.)', 'Employer Provided Salary:$90K - $99K', 'Employer Provided Salary:$114K - $211K', 'Employer Provided Salary:$75K - $176K', 'Employer Provided Salary:$130K - $218K', '$90K - $132K (Glassdoor est.)', '$80K - $114K (Glassdoor est.)', '$92K - $143K (Glassdoor est.)', '$76K - $117K (Glassdoor est.)', 'Employer Provided Salary:$55K - $60K', 'Employer Provided Salary:$143K - $200K', '$85K - $121K (Glassdoor est.)', 'Employer Provided Salary:$100K - $350K', 'Employer Provided Salary:$91K - $113K', 'Employer Provided Salary:$100K - $120K', 'Employer Provided Salary:$115K - $140K', '$84K - $122K (Glassdoor est.)', '$105K - $164K (Glassdoor est.)', '$98K - $142K (Glassdoor est.)', '$99K - $144K (Glassdoor est.)', '$90K - $141K (Glassdoor est.)', '$82K - $131K (Glassdoor est.)', '$72K - $111K (Glassdoor est.)', '$86K - $122K (Glassdoor est.)', '$106K - $163K (Glassdoor est.)', '$137K - $195K (Glassdoor est.)', 'Employer Provided Salary:$136K - $177K', '$72K - $112K (Glassdoor est.)', '$94K - $133K (Glassdoor est.)', 'Employer Provided Salary:$145K - $169K', '$113K - $162K (Glassdoor est.)', '$94K - $130K (Glassdoor est.)', '$105K - $145K (Glassdoor est.)', '$83K - $120K (Glassdoor est.)', '$113K - $156K (Glassdoor est.)', '$73K - $113K (Glassdoor est.)', '$76K - $113K (Glassdoor est.)']\n",
      "--------------------------------------------\n",
      "\n",
      "Rating\n",
      "['4.1', -1, '4.0', '4.2', '3.9', '4.4', '4.3', '4.7', '4.9', '3.8', '4.5', '2.6', '3.1', '3.5', '3.6', '3.7', '2.2', '3.4', '3.3']\n",
      "--------------------------------------------\n",
      "\n",
      "Founded\n",
      "['1837', 'Nonprofit Organization', 'Company - Public', '1976', '1943', '1975', '2013', '1937', '1998', -1, '1872', '2002', '2016', '1665', '1799', '2007', '1925', '1965', '1946', '2009', '1996', '1935', '1979', '1923', '2019', '2000', '2011', '2012', '2015', '1822', '2004', '1966', '1963', '2005', '1997', '1922', '1942', '1916', '1994', '1625', '1989', '1896', 'Government', '2006', '1956', '2014', 'Company - Private', '1818', '2017', '1893', '2021', '2018', '1812', '1909', '1928', '1915', '1888', '1914', '1984']\n",
      "--------------------------------------------\n",
      "\n"
     ]
    }
   ],
   "source": [
    "# Invesigate the questionable objects columns\n",
    "questionable_cols = ['Salary Estimate','Rating','Founded']\n",
    "\n",
    "for col in questionable_cols:\n",
    "    print(col)\n",
    "    print(raw_df[col].unique().tolist())\n",
    "    print('--------------------------------------------')\n",
    "    print()"
   ]
  },
  {
   "cell_type": "code",
   "execution_count": 5,
   "metadata": {},
   "outputs": [],
   "source": [
    "# Tasks on data to do\n",
    "##### slary parsing\n",
    "##### Company name text only\n",
    "##### state field\n",
    "##### age of compny\n",
    "##### parsing of job description (python, etc)\n",
    "\n",
    "#####################################################\n",
    "#[1] slary parsing\n",
    "# raw_df[raw_df['Salary Estimate'] == -1]                               # filter to view\n",
    "raw_df = raw_df[raw_df['Salary Estimate'] != -1]\n",
    "salary = raw_df['Salary Estimate'].apply(lambda x: x.split('(')[0])\n",
    "minus_kd = salary.apply(lambda x: x.replace('K','').replace('$',''))\n",
    "\n",
    "# raw_df.loc[raw_df['Salary Estimate'].str.contains('Per Hour')]        # filter to view\n",
    "raw_df[\"hourly\"] = raw_df['Salary Estimate'].apply(lambda x: 1 if 'per hour' in x.lower() else 0)\n",
    "raw_df[\"employer_provided\"] = raw_df['Salary Estimate'].apply(lambda x: 1 if 'employer provided salary:' in x.lower() else 0)\n",
    "\n",
    "min_hr = minus_kd.apply(lambda x: x.lower().replace('per hour','').replace('employer provided salary:',''))\n",
    "\n",
    "# on 'min_salary' : because there can not be min salary = 0, so if there is only one value on data , it will be the max and min slary\n",
    "raw_df['min_salary'] = min_hr.apply(lambda x: x.split('-')[0] if len(x.split('-'))==1 else x.split('-')[0] ).astype(np.float32).astype(np.int64)\n",
    "raw_df['max_salary'] = min_hr.apply(lambda x: x.split('-')[0] if len(x.split('-'))==1 else x.split('-')[1] ).astype(np.float32).astype(np.int64)\n",
    "raw_df['avg_salary'] = (raw_df['min_salary'] + raw_df['max_salary'])/2"
   ]
  },
  {
   "cell_type": "code",
   "execution_count": 6,
   "metadata": {},
   "outputs": [
    {
     "data": {
      "text/plain": [
       "(546, 19)"
      ]
     },
     "execution_count": 6,
     "metadata": {},
     "output_type": "execute_result"
    }
   ],
   "source": [
    "duplicate = raw_df[raw_df.duplicated()]\n",
    "duplicate.shape"
   ]
  },
  {
   "cell_type": "code",
   "execution_count": 7,
   "metadata": {},
   "outputs": [
    {
     "data": {
      "text/plain": [
       "dtype('int64')"
      ]
     },
     "metadata": {},
     "output_type": "display_data"
    },
    {
     "name": "stderr",
     "output_type": "stream",
     "text": [
      "/Users/ahmadsamir/opt/anaconda3/envs/py37/lib/python3.7/site-packages/ipykernel_launcher.py:6: FutureWarning: The default value of regex will change from True to False in a future version.\n",
      "  \n",
      "/Users/ahmadsamir/opt/anaconda3/envs/py37/lib/python3.7/site-packages/ipykernel_launcher.py:6: FutureWarning: The default value of regex will change from True to False in a future version. In addition, single character regular expressions will *not* be treated as literal strings when regex=True.\n",
      "  \n"
     ]
    }
   ],
   "source": [
    "#[2] Company name text only\n",
    "# Converting 'Rating' to int \n",
    "raw_df['Rating'] = raw_df['Rating'].astype(np.float32).astype(np.int64)\n",
    "display(raw_df['Rating'].dtype)\n",
    "# raw_df['company_txt'] = raw_df.apply(lambda x: x['Company Name'] if x['Rating'] <0 else x['Company Name'][:-3], axis=1)\n",
    "raw_df['company_txt'] = raw_df['Company Name'].str.replace('[0-9]','').str.replace('.','')"
   ]
  },
  {
   "cell_type": "code",
   "execution_count": 8,
   "metadata": {},
   "outputs": [
    {
     "data": {
      "text/plain": [
       "Remote                404\n",
       "Mountain View         246\n",
       "O'Fallon               58\n",
       "New York               30\n",
       "Fort Meade             28\n",
       "Cupertino              27\n",
       "Annapolis Junction     25\n",
       "Washington             17\n",
       "Name: job_state, dtype: int64"
      ]
     },
     "execution_count": 8,
     "metadata": {},
     "output_type": "execute_result"
    }
   ],
   "source": [
    "# [3] state field\n",
    "raw_df['job_state'] = raw_df['Location'].apply(lambda x: x.split(',')[0] if len(x.split(',')) == 1 else x.split(',')[0])\n",
    "raw_df['job_state'].value_counts()\n",
    "# raw_df['some_state'] = raw_df.apply(lambda x: 1 if x['Location'] == x['Headquarters'] else 0, axis=1)"
   ]
  },
  {
   "cell_type": "code",
   "execution_count": 9,
   "metadata": {},
   "outputs": [],
   "source": [
    "# [4] age of company\n",
    "# replace non integer values with -1\n",
    "for col, replacement in REPLACED_DICT.items() :\n",
    "    raw_df[col] = raw_df[col].replace(replacement).astype(np.int64)\n",
    "raw_df['age'] = raw_df['Founded'].apply(lambda x: x if x < 1 else 2022 - x)"
   ]
  },
  {
   "cell_type": "code",
   "execution_count": 44,
   "metadata": {},
   "outputs": [
    {
     "name": "stdout",
     "output_type": "stream",
     "text": [
      "python:\n",
      "1    0.79521\n",
      "0    0.20479\n",
      "Name: Job Description, dtype: float64 \n",
      " \n",
      "spark:\n",
      "0    0.796407\n",
      "1    0.203593\n",
      "Name: Job Description, dtype: float64 \n",
      " \n",
      "tableau:\n",
      "0    0.723353\n",
      "1    0.276647\n",
      "Name: Job Description, dtype: float64 \n",
      " \n",
      "power bi:\n",
      "0    0.948503\n",
      "1    0.051497\n",
      "Name: Job Description, dtype: float64 \n",
      " \n",
      "power-bi:\n",
      "0    1.0\n",
      "Name: Job Description, dtype: float64 \n",
      " \n",
      "tensorflow:\n",
      "0    0.882635\n",
      "1    0.117365\n",
      "Name: Job Description, dtype: float64 \n",
      " \n",
      "keras:\n",
      "0    0.959281\n",
      "1    0.040719\n",
      "Name: Job Description, dtype: float64 \n",
      " \n",
      "excel:\n",
      "0    0.670659\n",
      "1    0.329341\n",
      "Name: Job Description, dtype: float64 \n",
      " \n",
      "aws:\n",
      "0    0.791617\n",
      "1    0.208383\n",
      "Name: Job Description, dtype: float64 \n",
      " \n",
      "azure:\n",
      "0    0.959281\n",
      "1    0.040719\n",
      "Name: Job Description, dtype: float64 \n",
      " \n",
      "sql:\n",
      "1    0.565269\n",
      "0    0.434731\n",
      "Name: Job Description, dtype: float64 \n",
      " \n",
      "flask:\n",
      "0    1.0\n",
      "Name: Job Description, dtype: float64 \n",
      " \n",
      "r_studio:\n",
      "0    1.0\n",
      "Name: Job Description, dtype: float64 \n",
      " \n",
      "r studio:\n",
      "0    0.898204\n",
      "1    0.101796\n",
      "Name: Job Description, dtype: float64 \n",
      " \n",
      "torch:\n",
      "0    0.920958\n",
      "1    0.079042\n",
      "Name: Job Description, dtype: float64 \n",
      " \n",
      "docker:\n",
      "0    0.923353\n",
      "1    0.076647\n",
      "Name: Job Description, dtype: float64 \n",
      " \n",
      "sas:\n",
      "0    0.898204\n",
      "1    0.101796\n",
      "Name: Job Description, dtype: float64 \n",
      " \n"
     ]
    }
   ],
   "source": [
    "# [5] parsing of job description (python, etc)\n",
    "## skills\n",
    "# test to decide what is valid to be a column in df\n",
    "skills_list = ['python','spark','tableau', 'power bi','power-bi' ,'tensorflow','keras',\n",
    "               'excel','aws','azure','sql','flask', 'r_studio','r studio', 'torch', 'docker', 'sas']\n",
    "\n",
    "for skill in skills_list:\n",
    "    mask = raw_df['Job Description'].apply(lambda x: 1 if skill in x.lower() else 0)\n",
    "    print(f'{skill}:\\n{mask.value_counts(normalize=True)} \\n ')\n"
   ]
  },
  {
   "cell_type": "code",
   "execution_count": 45,
   "metadata": {},
   "outputs": [],
   "source": [
    "    \n",
    "# python - tableau - tensorflow - excel - aws - sql - r studio  - sas\n",
    "\n",
    "# python\n",
    "raw_df['python_yn'] = raw_df['Job Description'].apply(lambda x: 1 if 'python' in x.lower() else 0)\n",
    "\n",
    "# tableau\n",
    "raw_df['tableau_yn'] = raw_df['Job Description'].apply(lambda x: 1 if 'tableau' in x.lower() else 0)\n",
    "\n",
    "# # tensorflow\n",
    "raw_df['tensorflow_yn'] = raw_df['Job Description'].apply(lambda x: 1 if 'tensorflow' in x.lower() else 0)\n",
    "\n",
    "# excel\n",
    "raw_df['excel_yn'] = raw_df['Job Description'].apply(lambda x: 1 if 'excel' in x.lower() else 0)\n",
    "\n",
    "# aws\n",
    "raw_df['aws_yn'] = raw_df['Job Description'].apply(lambda x: 1 if 'aws' in x.lower() else 0)\n",
    "\n",
    "# sql\n",
    "raw_df['sql_yn'] = raw_df['Job Description'].apply(lambda x: 1 if 'mysql' in x.lower() else 0)\n",
    "\n",
    "# r-studio\n",
    "raw_df['r_studio_yn'] = raw_df['Job Description'].apply(lambda x: 1 if 'r studio' or 'r-studio' in x.lower() else 0)\n",
    "\n",
    "# sas\n",
    "raw_df['sas_yn'] = raw_df['Job Description'].apply(lambda x: 1 if 'sas' in x.lower() else 0)\n",
    "\n",
    "# # spark\n",
    "# raw_df['spark_yn'] = raw_df['Job Description'].apply(lambda x: 1 if 'spark' in x.lower() else 0)\n",
    "\n",
    "# # keras\n",
    "# raw_df['keras_yn'] = raw_df['Job Description'].apply(lambda x: 1 if 'keras' in x.lower() else 0)\n",
    "\n",
    "# # flask\n",
    "# raw_df['flask_yn'] = raw_df['Job Description'].apply(lambda x: 1 if 'flask' in x.lower() else 0)\n",
    "\n",
    "# # torch/pytoch\n",
    "# raw_df['torch_yn'] = raw_df['Job Description'].apply(lambda x: 1 if 'torch' or 'pytoch' in x.lower() else 0)\n",
    "\n",
    "# # docker\n",
    "# raw_df['docker_yn'] = raw_df['Job Description'].apply(lambda x: 1 if 'docker' in x.lower() else 0)\n",
    "\n",
    "# # Power BI\n",
    "# raw_df['power_bi_yn'] = raw_df['Job Description'].apply(lambda x: 1 if 'power bi' or 'power-bi' in x.lower() else 0)\n",
    "\n",
    "# # Azure\n",
    "# raw_df['azure_yn'] = raw_df['Job Description'].apply(lambda x: 1 if 'azure bi' in x.lower() else 0)\n",
    "\n"
   ]
  },
  {
   "cell_type": "code",
   "execution_count": 49,
   "metadata": {},
   "outputs": [
    {
     "data": {
      "text/plain": [
       "Index(['Job Title', 'Salary Estimate', 'Job Description', 'Rating',\n",
       "       'Company Name', 'Location', 'Headquarters', 'Size', 'Founded',\n",
       "       'Type of ownership', 'Industry', 'Sector', 'Revenue', 'Competitors',\n",
       "       'hourly', 'employer_provided', 'min_salary', 'max_salary', 'avg_salary',\n",
       "       'company_txt', 'job_state', 'age', 'python_yn', 'spark_yn',\n",
       "       'tableau_yn', 'tensorflow_yn', 'excel_yn', 'aws_yn', 'sql_yn',\n",
       "       'keras_yn', 'flask_yn', 'r_studio_yn', 'torch_yn', 'docker_yn',\n",
       "       'sas_yn', 'power_bi_yn', 'azure_yn'],\n",
       "      dtype='object')"
      ]
     },
     "execution_count": 49,
     "metadata": {},
     "output_type": "execute_result"
    }
   ],
   "source": [
    "## Visually verify results\n",
    "# raw_df.sample(1).iloc[0]\n",
    "raw_df.columns"
   ]
  },
  {
   "cell_type": "code",
   "execution_count": 50,
   "metadata": {},
   "outputs": [],
   "source": [
    "raw_df.to_pickle(EXPORT_PATH_PKL)\n",
    "raw_df.to_csv(EXPORT_PATH_CSV,index=False)"
   ]
  }
 ],
 "metadata": {
  "interpreter": {
   "hash": "2b171981365874f4915c1816f250cec3a86f6228f0c6c7a868ff701d9f9f446a"
  },
  "kernelspec": {
   "display_name": "Python 3.7.12 ('py37')",
   "language": "python",
   "name": "python3"
  },
  "language_info": {
   "codemirror_mode": {
    "name": "ipython",
    "version": 3
   },
   "file_extension": ".py",
   "mimetype": "text/x-python",
   "name": "python",
   "nbconvert_exporter": "python",
   "pygments_lexer": "ipython3",
   "version": "3.7.13"
  },
  "orig_nbformat": 4
 },
 "nbformat": 4,
 "nbformat_minor": 2
}
